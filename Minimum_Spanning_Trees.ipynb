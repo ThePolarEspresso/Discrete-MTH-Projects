{
  "nbformat": 4,
  "nbformat_minor": 0,
  "metadata": {
    "anaconda-cloud": {},
    "kernelspec": {
      "display_name": "Python [default]",
      "language": "python",
      "name": "python3"
    },
    "language_info": {
      "codemirror_mode": {
        "name": "ipython",
        "version": 3
      },
      "file_extension": ".py",
      "mimetype": "text/x-python",
      "name": "python",
      "nbconvert_exporter": "python",
      "pygments_lexer": "ipython3",
      "version": "3.5.2"
    },
    "colab": {
      "name": "Minimum Spanning Trees.ipynb",
      "provenance": [],
      "collapsed_sections": []
    }
  },
  "cells": [
    {
      "cell_type": "markdown",
      "metadata": {
        "id": "M_7djPxMn0KL"
      },
      "source": [
        "<h1>Minimum Spanning Trees</h1>"
      ]
    },
    {
      "cell_type": "markdown",
      "metadata": {
        "id": "b-xH4Oman0KS"
      },
      "source": [
        "The purpose of this project is for you to write codes that find minimum spanning trees using both Krukal's and Prim's algorithms.  You will also find a maximum spanning tree using Kruskal's Algorithm.\n",
        "\n",
        "The ONLY IMPORT ALLOWED is  \"copy\" and you are ONLY allowed to use the copy.deepcopy() method from this package.  All of your code should be 'from scracth.'  "
      ]
    },
    {
      "cell_type": "markdown",
      "metadata": {
        "id": "0XyF3njun0KS"
      },
      "source": [
        "<h2>Objectives</h2>"
      ]
    },
    {
      "cell_type": "markdown",
      "metadata": {
        "id": "m1309rK3n0KT"
      },
      "source": [
        "<h3>edge_get</h3>"
      ]
    },
    {
      "cell_type": "markdown",
      "metadata": {
        "id": "VG2hQmWUn0KT"
      },
      "source": [
        "You are to write a function <b>edge_get(graph)</b> that takes in a weighted graph as its input and returns the list of all the edges of the graph in non-decreasing order.  Note that the order of the endpoints of each edge does not matter (so [\"A\", \"B\"] is the same as [\"B\", \"A\"])."
      ]
    },
    {
      "cell_type": "code",
      "metadata": {
        "id": "UJlFdBJ4b-TS"
      },
      "source": [
        "import copy"
      ],
      "execution_count": 252,
      "outputs": []
    },
    {
      "cell_type": "code",
      "metadata": {
        "id": "ekY15v-in0KT"
      },
      "source": [
        "def edge_get(graph):\n",
        "  temp = []\n",
        "\n",
        "  for key in graph:\n",
        "    for value in graph[key]:\n",
        "      temp.append([key, value[0], value[1]])\n",
        "        \n",
        "  temp.sort(key=lambda x: x[2])\n",
        "\n",
        "  for edge in temp:\n",
        "    edge.remove(edge[2])\n",
        "\n",
        "  return remove_duplicates(temp)\n",
        "\n",
        "def remove_duplicates(lst):\n",
        "  temp = []\n",
        "  temp.append(lst[0])\n",
        "\n",
        "  for i in lst:\n",
        "    for j in temp:\n",
        "      if j == i:\n",
        "        matches = True\n",
        "      i.reverse()\n",
        "      if j == i:\n",
        "        matches = True\n",
        "    if matches == False:\n",
        "      temp.append(i)\n",
        "    else:\n",
        "      matches = False\n",
        "      \n",
        "  return temp"
      ],
      "execution_count": null,
      "outputs": []
    },
    {
      "cell_type": "markdown",
      "metadata": {
        "id": "1732iz_Mn0KU"
      },
      "source": [
        "After compiling the above cell, you should be able to compile the following cell and obtain the desired outputs."
      ]
    },
    {
      "cell_type": "code",
      "metadata": {
        "colab": {
          "base_uri": "https://localhost:8080/"
        },
        "id": "QIeMKrsQn0KV",
        "outputId": "5c72a9fc-132f-4498-c14d-b492a53a0e9f"
      },
      "source": [
        "print(edge_get({\"A\": [[\"B\", 10], [ \"D\", 5]], \"B\": [[\"A\", 10], [\"C\", 5]], \"C\": [[\"B\", 5], [\"D\", 15]], \"D\": [[\"C\",15 ],[\"A\", 5 ]]}))\n"
      ],
      "execution_count": null,
      "outputs": [
        {
          "output_type": "stream",
          "name": "stdout",
          "text": [
            "[['D', 'A'], ['C', 'B'], ['A', 'B'], ['D', 'C']]\n"
          ]
        }
      ]
    },
    {
      "cell_type": "markdown",
      "metadata": {
        "id": "ToZXFrmmn0KV"
      },
      "source": [
        "This should return\n",
        "\n",
        "[[\"A\",\"D\"], [\"B\", \"C\"], [\"A\", \"B\"], [\"C\", \"D\"]]  (another acceptable response is [[\"B\", \"C\"], [\"A\", \"D\"],  [\"A\", \"B\"], [\"C\", \"D\"]])"
      ]
    },
    {
      "cell_type": "markdown",
      "metadata": {
        "id": "stYRmZIxn0KW"
      },
      "source": [
        "<h3>list_join</h3>"
      ]
    },
    {
      "cell_type": "markdown",
      "metadata": {
        "id": "DwEI6c5Pn0KW"
      },
      "source": [
        "You are to write a function <b>list_join(lst, elt1,elt2)</b> that takes in three inputs:  a main list whose elements are lists, and then two elements that each belong in exactly one of the lists of the main list.  This method is then to return a new main list of lists, in which the list containing elt1 and the list containing elt2 are merged if different and unaffected otherwise."
      ]
    },
    {
      "cell_type": "code",
      "metadata": {
        "collapsed": true,
        "id": "b-VhfEXGn0KX"
      },
      "source": [
        "def list_join(lst, elt1, elt2):\n",
        "  temp = []\n",
        "\n",
        "  for i in lst:\n",
        "    if elt1 in i and elt2 in i:\n",
        "      return lst\n",
        "    elif elt2 in i:\n",
        "      temp = i\n",
        "      lst.remove(i)\n",
        "      break\n",
        "\n",
        "  for i in lst:\n",
        "    if elt1 in i:\n",
        "      i.extend(temp)\n",
        "      break\n",
        "\n",
        "  return lst"
      ],
      "execution_count": 219,
      "outputs": []
    },
    {
      "cell_type": "markdown",
      "metadata": {
        "id": "co1l8Zp6n0KX"
      },
      "source": [
        "After compiling the above cell, you should be able to compile the following cell and obtain the desired outputs."
      ]
    },
    {
      "cell_type": "code",
      "metadata": {
        "colab": {
          "base_uri": "https://localhost:8080/"
        },
        "id": "rmaoECERn0KX",
        "outputId": "176728bf-8e92-4e33-ceb9-2e8a012293b6"
      },
      "source": [
        "print(list_join([[\"A\", \"B\"], [\"C\"], [\"D\"], [\"E\", \"F\"]], \"A\", \"D\"),\n",
        "      list_join([[\"A\", \"B\"], [\"C\"], [\"D\"], [\"E\", \"F\"]], \"A\", \"B\"))"
      ],
      "execution_count": 220,
      "outputs": [
        {
          "output_type": "stream",
          "name": "stdout",
          "text": [
            "[['A', 'B', 'D'], ['C'], ['E', 'F']] [['A', 'B'], ['C'], ['D'], ['E', 'F']]\n"
          ]
        }
      ]
    },
    {
      "cell_type": "markdown",
      "metadata": {
        "id": "y-dhc1Jcn0KY"
      },
      "source": [
        "This should return \n",
        "\n",
        "[[\"A\", \"B\", \"D\"], [\"C\"], [\"E\",\"F\"]]\n",
        "\n",
        "[[\"A\", \"B\"], [\"C\"], [\"D\"], [\"E\", \"F\"]]"
      ]
    },
    {
      "cell_type": "markdown",
      "metadata": {
        "id": "97TA5lv7n0KY"
      },
      "source": [
        "<h3>min_kruskal</h3>"
      ]
    },
    {
      "cell_type": "markdown",
      "metadata": {
        "id": "19MNw-bSn0KY"
      },
      "source": [
        "You are to write a function <b>min_kruskal(graph)</b> that takes in a weighted graph as its input and returns a list of edges that make up a minimum spanning tree IN THE ORDER obtained via Kruskal's algorithm.  The edges should be in the form of lists as well."
      ]
    },
    {
      "cell_type": "code",
      "metadata": {
        "collapsed": true,
        "id": "BxEkhiLRn0KY"
      },
      "source": [
        "def min_kruskal(graph):\n",
        "  q = edge_get(graph)\n",
        "  minTree = []\n",
        "  vertices = []\n",
        "\n",
        "  for key in graph:\n",
        "    for value in graph[key]:\n",
        "      vertices.append([key])\n",
        "\n",
        "  vertices = remove_duplicates(vertices)\n",
        "\n",
        "  for i in q:\n",
        "    if vertices != list_join(copy.deepcopy(vertices), i[0], i[1]):\n",
        "      list_join(vertices, i[0], i[1])\n",
        "      minTree.append(i)\n",
        "    \n",
        "\n",
        "  return minTree"
      ],
      "execution_count": 261,
      "outputs": []
    },
    {
      "cell_type": "markdown",
      "metadata": {
        "id": "tVIcLeb6n0KY"
      },
      "source": [
        "After compiling the above cell, you should be able to compile the following cell and obtain the desired outputs."
      ]
    },
    {
      "cell_type": "code",
      "metadata": {
        "colab": {
          "base_uri": "https://localhost:8080/"
        },
        "id": "xRzpypVYn0KZ",
        "outputId": "e0c171b3-fae1-4a6d-e704-fd78d4943227"
      },
      "source": [
        "print(min_kruskal({\"A\": [[\"B\", 10], [ \"D\", 5]], \"B\": [[\"A\", 10], [\"C\", 5]], \"C\": [[\"B\", 5], [ \"D\", 15]], \"D\": [[\"C\",15 ], [\"A\", 5 ]]}))"
      ],
      "execution_count": 257,
      "outputs": [
        {
          "output_type": "stream",
          "name": "stdout",
          "text": [
            "[['D', 'A'], ['C', 'B'], ['A', 'B']]\n"
          ]
        }
      ]
    },
    {
      "cell_type": "markdown",
      "metadata": {
        "id": "RnXq5BeMn0KZ"
      },
      "source": [
        "This should return\n",
        "\n",
        "[[\"A\", \"D\"], [\"B\", \"C\"], [\"A\", \"B\"]]  \n",
        "\n",
        "(another acceptable response is [[\"B\", \"C\"], [\"A\", \"D\"], [\"A\", \"B\"]])"
      ]
    },
    {
      "cell_type": "markdown",
      "metadata": {
        "id": "zzZmzTcen0KZ"
      },
      "source": [
        "<h3>min_prim</h3>"
      ]
    },
    {
      "cell_type": "markdown",
      "metadata": {
        "id": "Uws6trBVn0KZ"
      },
      "source": [
        "You are to write a function <b>min_prim(graph, source)</b> that takes in a weighted graph and a source vertex as its input and returns a list of edges that make up a minimum spanning tree IN THE ORDER obtained via Prim's algorithm.  The edges should be in the form of lists as well.  "
      ]
    },
    {
      "cell_type": "code",
      "metadata": {
        "collapsed": true,
        "id": "fPUVQw4un0Ka"
      },
      "source": [
        "def min_prim(graph, source):\n",
        "  q = edge_get(graph)\n",
        "  t = []\n",
        "  s = [source]\n",
        "\n",
        "  i = 0\n",
        "  while i < len(q):\n",
        "    if (q[i][0] in s) is not (q[i][1] in s):\n",
        "      t.append(q[i])\n",
        "      s.append(q[i][1]) if q[i][0] in s else s.append(q[i][0])\n",
        "      i = 0\n",
        "    else:\n",
        "      i += 1\n",
        "\n",
        "  return t"
      ],
      "execution_count": 198,
      "outputs": []
    },
    {
      "cell_type": "markdown",
      "metadata": {
        "id": "-W5X-EyHn0Ka"
      },
      "source": [
        "After compiling the above cell, you should be able to compile the following cell and obtain the desired outputs."
      ]
    },
    {
      "cell_type": "code",
      "metadata": {
        "id": "1fxW7D7dn0Ka",
        "colab": {
          "base_uri": "https://localhost:8080/"
        },
        "outputId": "c0a13a7c-5223-4408-e755-5796cee6dd7e"
      },
      "source": [
        "print(min_prim({\"A\": [[\"B\", 10], [ \"D\", 5]], \"B\": [[\"A\", 10], [\"C\", 5]], \"C\": [[\"B\", 5], [ \"D\", 15]], \"D\": [[\"C\",15 ], [\"A\", 5 ]]}, \"A\"))"
      ],
      "execution_count": 199,
      "outputs": [
        {
          "output_type": "stream",
          "name": "stdout",
          "text": [
            "[['D', 'A'], ['A', 'B'], ['C', 'B']]\n"
          ]
        }
      ]
    },
    {
      "cell_type": "markdown",
      "metadata": {
        "id": "6iHJgYNcn0Ka"
      },
      "source": [
        "This should return\n",
        "\n",
        "[[\"A\", \"D\"], [\"A\", \"B\"], [\"B\", \"C\"]]\n"
      ]
    },
    {
      "cell_type": "markdown",
      "metadata": {
        "id": "lY9XYYHhn0Ka"
      },
      "source": [
        "<h3>max_kruskal</h3>"
      ]
    },
    {
      "cell_type": "markdown",
      "metadata": {
        "id": "83lwPoW1n0Kb"
      },
      "source": [
        "You are to write a function <b>max_kruskal(graph)</b> that takes in a weighted graph as its input and returns a list of edges that make up a maximum spanning tree IN THE ORDER obtained via Kruskal's algorithm.  The edges should be in the form of lists as well."
      ]
    },
    {
      "cell_type": "code",
      "metadata": {
        "collapsed": true,
        "id": "WOZXgSL1n0Kb"
      },
      "source": [
        "def max_kruskal(graph):\n",
        "  q = edge_get(graph)\n",
        "  q.reverse()\n",
        "  maxTree = []\n",
        "  vertices = []\n",
        "\n",
        "  for key in graph:\n",
        "    for value in graph[key]:\n",
        "      vertices.append([key])\n",
        "\n",
        "  vertices = remove_duplicates(vertices)\n",
        "\n",
        "  for i in q:\n",
        "    if vertices != list_join(copy.deepcopy(vertices), i[0], i[1]):\n",
        "      list_join(vertices, i[0], i[1])\n",
        "      maxTree.append(i)\n",
        "    \n",
        "\n",
        "  return maxTree"
      ],
      "execution_count": 264,
      "outputs": []
    },
    {
      "cell_type": "markdown",
      "metadata": {
        "id": "pStfvqSRn0Kb"
      },
      "source": [
        "After compiling the above cell, you should be able to compile the following cell and obtain the desired outputs."
      ]
    },
    {
      "cell_type": "code",
      "metadata": {
        "id": "XZChzxgan0Kb",
        "colab": {
          "base_uri": "https://localhost:8080/"
        },
        "outputId": "447a8e06-cfcb-4a39-d8fa-9abf8eacd61f"
      },
      "source": [
        "print(max_kruskal({\"A\": [[\"B\", 10], [ \"D\", 5]], \"B\": [[\"A\", 10], [\"C\", 5]], \"C\": [[\"B\", 5], [ \"D\", 15]], \"D\": [[\"C\",15 ], [\"A\", 5 ]]}))"
      ],
      "execution_count": 265,
      "outputs": [
        {
          "output_type": "stream",
          "name": "stdout",
          "text": [
            "[['D', 'C'], ['A', 'B'], ['C', 'B']]\n"
          ]
        }
      ]
    },
    {
      "cell_type": "markdown",
      "metadata": {
        "id": "6_WcNz_yn0Kb"
      },
      "source": [
        "This should return \n",
        "\n",
        "[[\"C\",\"D\"], [\"A\",\"B\"], [\"A\",\"D\"]] \n",
        "\n",
        "(another acceptable response is [[\"C\",\"D\"], [\"A\",\"B\"], [\"B\",\"C\"]])"
      ]
    },
    {
      "cell_type": "code",
      "metadata": {
        "collapsed": true,
        "id": "7di-XVhLn0Kb"
      },
      "source": [
        ""
      ],
      "execution_count": 265,
      "outputs": []
    }
  ]
}
