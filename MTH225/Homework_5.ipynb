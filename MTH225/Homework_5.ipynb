{
  "nbformat": 4,
  "nbformat_minor": 0,
  "metadata": {
    "colab": {
      "name": "Homework 5.ipynb",
      "provenance": []
    },
    "kernelspec": {
      "name": "python3",
      "display_name": "Python 3"
    }
  },
  "cells": [
    {
      "cell_type": "markdown",
      "metadata": {
        "id": "mWJ3Oz8e3ayL"
      },
      "source": [
        "The function delta_one takes a list and determines whether or not it is arithmetic; It returns true if it is ∆1-constant."
      ]
    },
    {
      "cell_type": "code",
      "metadata": {
        "id": "4jMn-BziBSNF"
      },
      "source": [
        "def delta_one(lst):\n",
        "  delta = lst[1] - lst[0]\n",
        "  for index in range(len(lst) - 1):\n",
        "    if not (lst[index + 1] - lst[index] == delta):\n",
        "        return False\n",
        "  return True"
      ],
      "execution_count": null,
      "outputs": []
    },
    {
      "cell_type": "markdown",
      "metadata": {
        "id": "2vPpjGIz3ni9"
      },
      "source": [
        "The function delta_two takes a list and creates a temporary list (temp) \n",
        "comprised of all the differences in lst. It then sends temp to delta_one and returns true if it is ∆1-constant and therefore ∆2-constant."
      ]
    },
    {
      "cell_type": "code",
      "metadata": {
        "id": "GXBATn9M3Wz6"
      },
      "source": [
        "def delta_two(lst):\n",
        "  temp = []\n",
        "  for num in range(len(lst) - 1):\n",
        "    temp.append(lst[num + 1] - lst[num])\n",
        "  return delta_one(temp)"
      ],
      "execution_count": null,
      "outputs": []
    },
    {
      "cell_type": "markdown",
      "metadata": {
        "id": "wHagzLhU4SIZ"
      },
      "source": [
        "The function delta_three takes a list and creates a temporary list (temp) comprised of all the differences in lst. It then sends temp to delta_one and returns true if it is ∆2-constant and therefore ∆3-constant."
      ]
    },
    {
      "cell_type": "code",
      "metadata": {
        "id": "lLQBq8iM3XAb"
      },
      "source": [
        "def delta_three(lst):\n",
        "  temp = []\n",
        "  for num in range(len(lst) - 1):\n",
        "    temp.append(lst[num + 1] - lst[num])\n",
        "  return delta_two(temp)"
      ],
      "execution_count": null,
      "outputs": []
    },
    {
      "cell_type": "code",
      "metadata": {
        "colab": {
          "base_uri": "https://localhost:8080/"
        },
        "id": "4wGeOFobz-Nh",
        "outputId": "2faa0a5b-10fb-4054-8ab7-5cb5520f07f1"
      },
      "source": [
        "print(delta_one([1, 3, 5, 7, 9, 11]))\n",
        "print(delta_one([1, 4, 9, 16, 25, 36]))\n",
        "print(delta_one([0, 4, 18, 48, 100, 180]))\n",
        "\n",
        "print(delta_two([1, 3, 5, 7, 9, 11]))\n",
        "print(delta_two([1, 4, 9, 16, 25, 36]))\n",
        "print(delta_two([0, 4, 18, 48, 100, 180]))\n",
        "\n",
        "print(delta_three([1, 3, 5, 7, 9, 11]))\n",
        "print(delta_three([1, 4, 9, 16, 25, 36]))\n",
        "print(delta_three([0, 4, 18, 48, 100, 180]))"
      ],
      "execution_count": null,
      "outputs": [
        {
          "output_type": "stream",
          "text": [
            "True\n",
            "False\n",
            "False\n",
            "True\n",
            "True\n",
            "False\n",
            "True\n",
            "True\n",
            "True\n"
          ],
          "name": "stdout"
        }
      ]
    },
    {
      "cell_type": "code",
      "metadata": {
        "id": "YPvrkO158gjO"
      },
      "source": [
        ""
      ],
      "execution_count": null,
      "outputs": []
    }
  ]
}