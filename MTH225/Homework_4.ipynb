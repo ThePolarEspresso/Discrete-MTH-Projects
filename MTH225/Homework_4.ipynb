{
  "nbformat": 4,
  "nbformat_minor": 0,
  "metadata": {
    "colab": {
      "name": "Homework 4.ipynb",
      "provenance": []
    },
    "kernelspec": {
      "name": "python3",
      "display_name": "Python 3"
    }
  },
  "cells": [
    {
      "cell_type": "code",
      "metadata": {
        "id": "4jMn-BziBSNF"
      },
      "source": [
        "def p(n):\n",
        "  if (n % 3 == 0):\n",
        "    return (n / 3)\n",
        "  elif (n % 3 == 1):\n",
        "    return ((2 * n) + 1)\n",
        "  else:\n",
        "    return ((2 * n) - 1)"
      ],
      "execution_count": null,
      "outputs": []
    },
    {
      "cell_type": "code",
      "metadata": {
        "id": "ICQ6xDxnCw3B"
      },
      "source": [
        "def collatz(n):\n",
        "  clist = []\n",
        "  while (n != 1):\n",
        "    clist.append(n)\n",
        "    n = p(n)\n",
        "  clist.append(n)\n",
        "  return (clist)"
      ],
      "execution_count": null,
      "outputs": []
    },
    {
      "cell_type": "markdown",
      "metadata": {
        "id": "oqfXifxz_RUN"
      },
      "source": [
        "The last 3 digits are almost always 9, 3, 1, HOWEVER:\n",
        "\n",
        "The last 3 digits of inputs like 6 and 18 are 2, 3, 1. At first, I thought this would be true for all numbers that are even and divisible by 3, but then I realized that numbers like 12 and 24 do not follow this pattern. \n",
        "\n",
        "So, I think that these numbers are like a geometric sequence where a1=2 and r=3 (I'm not sure how else to explain this). The sequence would look like: 2, 6, 18, 54, 162, 486... \n",
        "\n",
        "Also, inputting one of the larger numbers from that sequence such as 4374 or 13122 yields a much shorter list of numbers vs. when I input numbers like 1000 and 3000, despite being much bigger.\n"
      ]
    },
    {
      "cell_type": "code",
      "metadata": {
        "colab": {
          "base_uri": "https://localhost:8080/"
        },
        "id": "-fANzP1JC_74",
        "outputId": "418e18a9-585e-44bf-ffa1-e775406c38d9"
      },
      "source": [
        "print(\"Testing numbers 1-20:\")\n",
        "print(collatz(1))\n",
        "print(collatz(2)) #ends 2, 3, 1\n",
        "print(collatz(3))\n",
        "print(collatz(4))\n",
        "print(collatz(5))\n",
        "print(collatz(6)) #ends 2, 3, 1\n",
        "print(collatz(7))\n",
        "print(collatz(8))\n",
        "print(collatz(9))\n",
        "print(collatz(10))\n",
        "print(collatz(11))\n",
        "print(collatz(12))\n",
        "print(collatz(13))\n",
        "print(collatz(14))\n",
        "print(collatz(15))\n",
        "print(collatz(16))\n",
        "print(collatz(17))\n",
        "print(collatz(18)) #ends 2, 3, 1\n",
        "print(collatz(19))\n",
        "print(collatz(20))\n",
        "\n",
        "print(\"\\nTesting numbers that could end in 2, 3, 1:\")\n",
        "print(collatz(24)) #does not end 2, 3, 1\n",
        "print(collatz(54)) #ends 2, 3, 1\n",
        "print(collatz(162)) #ends 2, 3, 1\n",
        "print(collatz(486)) #ends 2, 3, 1\n",
        "\n",
        "print(\"\\nTesting large numbers:\")\n",
        "print(collatz(1000))\n",
        "print(collatz(3000))\n",
        "print(collatz(4374)) #ends 2, 3, 1\n",
        "print(collatz(13122)) #ends 2, 3, 1"
      ],
      "execution_count": null,
      "outputs": [
        {
          "output_type": "stream",
          "text": [
            "Testing numbers 1-20:\n",
            "[1]\n",
            "[2, 3, 1.0]\n",
            "[3, 1.0]\n",
            "[4, 9, 3.0, 1.0]\n",
            "[5, 9, 3.0, 1.0]\n",
            "[6, 2.0, 3.0, 1.0]\n",
            "[7, 15, 5.0, 9.0, 3.0, 1.0]\n",
            "[8, 15, 5.0, 9.0, 3.0, 1.0]\n",
            "[9, 3.0, 1.0]\n",
            "[10, 21, 7.0, 15.0, 5.0, 9.0, 3.0, 1.0]\n",
            "[11, 21, 7.0, 15.0, 5.0, 9.0, 3.0, 1.0]\n",
            "[12, 4.0, 9.0, 3.0, 1.0]\n",
            "[13, 27, 9.0, 3.0, 1.0]\n",
            "[14, 27, 9.0, 3.0, 1.0]\n",
            "[15, 5.0, 9.0, 3.0, 1.0]\n",
            "[16, 33, 11.0, 21.0, 7.0, 15.0, 5.0, 9.0, 3.0, 1.0]\n",
            "[17, 33, 11.0, 21.0, 7.0, 15.0, 5.0, 9.0, 3.0, 1.0]\n",
            "[18, 6.0, 2.0, 3.0, 1.0]\n",
            "[19, 39, 13.0, 27.0, 9.0, 3.0, 1.0]\n",
            "[20, 39, 13.0, 27.0, 9.0, 3.0, 1.0]\n",
            "\n",
            "Testing numbers that could end in 2, 3, 1:\n",
            "[24, 8.0, 15.0, 5.0, 9.0, 3.0, 1.0]\n",
            "[54, 18.0, 6.0, 2.0, 3.0, 1.0]\n",
            "[162, 54.0, 18.0, 6.0, 2.0, 3.0, 1.0]\n",
            "[486, 162.0, 54.0, 18.0, 6.0, 2.0, 3.0, 1.0]\n",
            "\n",
            "Testing large numbers:\n",
            "[1000, 2001, 667.0, 1335.0, 445.0, 891.0, 297.0, 99.0, 33.0, 11.0, 21.0, 7.0, 15.0, 5.0, 9.0, 3.0, 1.0]\n",
            "[3000, 1000.0, 2001.0, 667.0, 1335.0, 445.0, 891.0, 297.0, 99.0, 33.0, 11.0, 21.0, 7.0, 15.0, 5.0, 9.0, 3.0, 1.0]\n",
            "[4374, 1458.0, 486.0, 162.0, 54.0, 18.0, 6.0, 2.0, 3.0, 1.0]\n",
            "[13122, 4374.0, 1458.0, 486.0, 162.0, 54.0, 18.0, 6.0, 2.0, 3.0, 1.0]\n"
          ],
          "name": "stdout"
        }
      ]
    }
  ]
}