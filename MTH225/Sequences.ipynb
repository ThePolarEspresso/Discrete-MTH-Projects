{
  "nbformat": 4,
  "nbformat_minor": 0,
  "metadata": {
    "colab": {
      "name": "Sequences.ipynb",
      "provenance": []
    },
    "kernelspec": {
      "name": "python3",
      "display_name": "Python 3"
    }
  },
  "cells": [
    {
      "cell_type": "markdown",
      "metadata": {
        "id": "tc0gBeFAugW8"
      },
      "source": [
        "## Sequences\n",
        "By Anna Carvalho"
      ]
    },
    {
      "cell_type": "code",
      "metadata": {
        "id": "7r_myDa7udyp"
      },
      "source": [
        "# The function arith takes integers start, number, and max, and creates a \n",
        "# arithmetic sequence; start representing the starting value, number representing\n",
        "# the common difference, and max representing the number of elements in the \n",
        "# sequence.\n",
        "\n",
        "\n",
        "def arith(start, number, max):\n",
        "  lst = [start]\n",
        "  for i in range(max):\n",
        "    # Adds previous element + number to lst\n",
        "    lst.append(lst[i] + number)\n",
        "  return lst"
      ],
      "execution_count": null,
      "outputs": []
    },
    {
      "cell_type": "code",
      "metadata": {
        "id": "EHKubGEqvUIk"
      },
      "source": [
        "# The function geo takes integers start, number, and max, and creates a \n",
        "# geometric sequence; start representing the starting value, number representing\n",
        "# the common ratio, and max representing the number of elements in the sequence.\n",
        "\n",
        "def geo(start, number, max):\n",
        "  lst = [start]\n",
        "  for i in range(max):\n",
        "    # Adds previous element * number to lst\n",
        "    lst.append(lst[i] * number)\n",
        "  return lst"
      ],
      "execution_count": null,
      "outputs": []
    },
    {
      "cell_type": "code",
      "metadata": {
        "id": "PT8Bc1E4vbrH"
      },
      "source": [
        "# The function delta_one takes a list and determines whether or not it is \n",
        "# ∆1-constant (arithmetic); It returns true if it is.\n",
        "\n",
        "def delta_one(lst):\n",
        "  delta = lst[1] - lst[0]\n",
        "  for i in range(len(lst) - 1):\n",
        "    # Verifies that the difference between i and i + 1 is equal to delta\n",
        "    if not (lst[i + 1] - lst[i] == delta):\n",
        "        return False\n",
        "  return True"
      ],
      "execution_count": null,
      "outputs": []
    },
    {
      "cell_type": "code",
      "metadata": {
        "id": "y5_73kemvf91"
      },
      "source": [
        "# The function delta_two takes a list and creates a temporary list (temp) \n",
        "# comprised of all the differences in lst. It then sends temp to delta_one and \n",
        "# returns true if it is ∆1-constant and therefore ∆2-constant.\n",
        "\n",
        "def delta_two(lst):\n",
        "  temp = []\n",
        "  for i in range(len(lst) - 1):\n",
        "    # Adds the difference between i and i + 1 to temp\n",
        "    temp.append(lst[i + 1] - lst[i])\n",
        "  # Sends temp to delta_one\n",
        "  return delta_one(temp)"
      ],
      "execution_count": null,
      "outputs": []
    },
    {
      "cell_type": "code",
      "metadata": {
        "id": "BhLw3rKKwRbX"
      },
      "source": [
        "# The function delta_three takes a list and creates a temporary list (temp) \n",
        "# comprised of all the differences in lst. It then sends temp to delta_one and \n",
        "# returns true if it is ∆2-constant and therefore ∆3-constant.\n",
        "\n",
        "def delta_three(lst):\n",
        "  temp = []\n",
        "  for i in range(len(lst) - 1):\n",
        "    # Adds the difference between i and i + 1 to temp\n",
        "    temp.append(lst[i + 1] - lst[i])\n",
        "  # Sends temp to delta_two\n",
        "  return delta_two(temp)"
      ],
      "execution_count": null,
      "outputs": []
    },
    {
      "cell_type": "markdown",
      "metadata": {
        "id": "kvRfh6novIp_"
      },
      "source": [
        "## Test cases\n"
      ]
    },
    {
      "cell_type": "code",
      "metadata": {
        "id": "zVlcDRWIu1hh",
        "colab": {
          "base_uri": "https://localhost:8080/"
        },
        "outputId": "301eda52-3ec4-46bb-93d0-ea1b508e0dd3"
      },
      "source": [
        "arith(3, 5, 3)"
      ],
      "execution_count": null,
      "outputs": [
        {
          "output_type": "execute_result",
          "data": {
            "text/plain": [
              "[3, 8, 13, 18]"
            ]
          },
          "metadata": {
            "tags": []
          },
          "execution_count": 7
        }
      ]
    },
    {
      "cell_type": "code",
      "metadata": {
        "id": "m5_yn7bDu7iE",
        "colab": {
          "base_uri": "https://localhost:8080/"
        },
        "outputId": "f1e88895-2cfa-417e-d57c-bc8178d75e33"
      },
      "source": [
        "arith(5, -1, 4)"
      ],
      "execution_count": null,
      "outputs": [
        {
          "output_type": "execute_result",
          "data": {
            "text/plain": [
              "[5, 4, 3, 2, 1]"
            ]
          },
          "metadata": {
            "tags": []
          },
          "execution_count": 8
        }
      ]
    },
    {
      "cell_type": "code",
      "metadata": {
        "id": "Qiph27T-u_rA",
        "colab": {
          "base_uri": "https://localhost:8080/"
        },
        "outputId": "d606d50f-6526-4ca9-f764-443d6a4b4776"
      },
      "source": [
        "arith(4, 4, 0)"
      ],
      "execution_count": null,
      "outputs": [
        {
          "output_type": "execute_result",
          "data": {
            "text/plain": [
              "[4]"
            ]
          },
          "metadata": {
            "tags": []
          },
          "execution_count": 9
        }
      ]
    },
    {
      "cell_type": "code",
      "metadata": {
        "colab": {
          "base_uri": "https://localhost:8080/"
        },
        "id": "HgkEUWGXkv0h",
        "outputId": "e4890a7a-ee15-436b-a96f-3327e2e53309"
      },
      "source": [
        "arith(0, 0, 4)"
      ],
      "execution_count": null,
      "outputs": [
        {
          "output_type": "execute_result",
          "data": {
            "text/plain": [
              "[0, 0, 0, 0, 0]"
            ]
          },
          "metadata": {
            "tags": []
          },
          "execution_count": 10
        }
      ]
    },
    {
      "cell_type": "code",
      "metadata": {
        "id": "Hok6q6jLvBAo",
        "colab": {
          "base_uri": "https://localhost:8080/"
        },
        "outputId": "414d377a-b090-48b2-8cae-a630955a7aac"
      },
      "source": [
        "geo(3, 5, 3)"
      ],
      "execution_count": null,
      "outputs": [
        {
          "output_type": "execute_result",
          "data": {
            "text/plain": [
              "[3, 15, 75, 375]"
            ]
          },
          "metadata": {
            "tags": []
          },
          "execution_count": 11
        }
      ]
    },
    {
      "cell_type": "code",
      "metadata": {
        "id": "rQu-IF7xvQfp",
        "colab": {
          "base_uri": "https://localhost:8080/"
        },
        "outputId": "31e0019e-45b9-440a-983f-0abaf171fece"
      },
      "source": [
        "geo(5, -1, 4)"
      ],
      "execution_count": null,
      "outputs": [
        {
          "output_type": "execute_result",
          "data": {
            "text/plain": [
              "[5, -5, 5, -5, 5]"
            ]
          },
          "metadata": {
            "tags": []
          },
          "execution_count": 12
        }
      ]
    },
    {
      "cell_type": "code",
      "metadata": {
        "id": "_KBMszV4vYJY",
        "colab": {
          "base_uri": "https://localhost:8080/"
        },
        "outputId": "f27084d9-d9b6-4133-ebe0-714f806471f2"
      },
      "source": [
        "geo(4, 4, 0)"
      ],
      "execution_count": null,
      "outputs": [
        {
          "output_type": "execute_result",
          "data": {
            "text/plain": [
              "[4]"
            ]
          },
          "metadata": {
            "tags": []
          },
          "execution_count": 13
        }
      ]
    },
    {
      "cell_type": "code",
      "metadata": {
        "colab": {
          "base_uri": "https://localhost:8080/"
        },
        "id": "-yOR9MCvk40v",
        "outputId": "062a3550-0c8c-4458-bce6-b4807dfea88d"
      },
      "source": [
        "geo(0, 0, 4)"
      ],
      "execution_count": null,
      "outputs": [
        {
          "output_type": "execute_result",
          "data": {
            "text/plain": [
              "[0, 0, 0, 0, 0]"
            ]
          },
          "metadata": {
            "tags": []
          },
          "execution_count": 14
        }
      ]
    },
    {
      "cell_type": "code",
      "metadata": {
        "id": "yfE1lRFXvZgD",
        "colab": {
          "base_uri": "https://localhost:8080/"
        },
        "outputId": "d0f3ee90-d3e1-48b0-ae56-a81d2fbc530d"
      },
      "source": [
        "delta_one([1, 3, 5, 7, 9, 11, 13])"
      ],
      "execution_count": null,
      "outputs": [
        {
          "output_type": "execute_result",
          "data": {
            "text/plain": [
              "True"
            ]
          },
          "metadata": {
            "tags": []
          },
          "execution_count": 15
        }
      ]
    },
    {
      "cell_type": "code",
      "metadata": {
        "id": "x4J5yiGdvlZW",
        "colab": {
          "base_uri": "https://localhost:8080/"
        },
        "outputId": "6a3b0082-b3dd-4200-c3cc-bb6207c1f2d8"
      },
      "source": [
        "delta_one([1, 4, 9, 16, 25, 36, 49, 64])"
      ],
      "execution_count": null,
      "outputs": [
        {
          "output_type": "execute_result",
          "data": {
            "text/plain": [
              "False"
            ]
          },
          "metadata": {
            "tags": []
          },
          "execution_count": 16
        }
      ]
    },
    {
      "cell_type": "code",
      "metadata": {
        "id": "H4WADYHsvm66",
        "colab": {
          "base_uri": "https://localhost:8080/"
        },
        "outputId": "8125f763-acb4-4c81-d289-68e8ff047757"
      },
      "source": [
        "delta_one([0, 4, 18, 48, 100, 180])"
      ],
      "execution_count": null,
      "outputs": [
        {
          "output_type": "execute_result",
          "data": {
            "text/plain": [
              "False"
            ]
          },
          "metadata": {
            "tags": []
          },
          "execution_count": 17
        }
      ]
    },
    {
      "cell_type": "code",
      "metadata": {
        "id": "-Zm-yc4JvpqB",
        "colab": {
          "base_uri": "https://localhost:8080/"
        },
        "outputId": "65a0e232-5a37-403e-ef90-93c0ba5eebcd"
      },
      "source": [
        "delta_two([1, 3, 5, 7, 9, 11, 13])"
      ],
      "execution_count": null,
      "outputs": [
        {
          "output_type": "execute_result",
          "data": {
            "text/plain": [
              "True"
            ]
          },
          "metadata": {
            "tags": []
          },
          "execution_count": 18
        }
      ]
    },
    {
      "cell_type": "code",
      "metadata": {
        "id": "tGG5Y6OdvrUh",
        "colab": {
          "base_uri": "https://localhost:8080/"
        },
        "outputId": "73d0f402-fc98-40fc-9a58-f51e6e0397a3"
      },
      "source": [
        "delta_two([1, 4, 9, 16, 25, 36, 49, 64])"
      ],
      "execution_count": null,
      "outputs": [
        {
          "output_type": "execute_result",
          "data": {
            "text/plain": [
              "True"
            ]
          },
          "metadata": {
            "tags": []
          },
          "execution_count": 19
        }
      ]
    },
    {
      "cell_type": "code",
      "metadata": {
        "id": "lI_BKhobvsxr",
        "colab": {
          "base_uri": "https://localhost:8080/"
        },
        "outputId": "337d4ec8-765c-423a-b695-8e8c1fb401e4"
      },
      "source": [
        "delta_two([0, 4, 18, 48, 100, 180])"
      ],
      "execution_count": null,
      "outputs": [
        {
          "output_type": "execute_result",
          "data": {
            "text/plain": [
              "False"
            ]
          },
          "metadata": {
            "tags": []
          },
          "execution_count": 20
        }
      ]
    },
    {
      "cell_type": "code",
      "metadata": {
        "id": "eA0_zmeXwu4M",
        "colab": {
          "base_uri": "https://localhost:8080/"
        },
        "outputId": "e6f4bb74-bf9a-4780-e9cc-39ae8e921654"
      },
      "source": [
        "delta_three([1, 3, 5, 7, 9, 11, 13])"
      ],
      "execution_count": null,
      "outputs": [
        {
          "output_type": "execute_result",
          "data": {
            "text/plain": [
              "True"
            ]
          },
          "metadata": {
            "tags": []
          },
          "execution_count": 21
        }
      ]
    },
    {
      "cell_type": "code",
      "metadata": {
        "id": "QUesqDxfwwHT",
        "colab": {
          "base_uri": "https://localhost:8080/"
        },
        "outputId": "00d4afb2-4be7-4b0b-9bde-d0640f351b9f"
      },
      "source": [
        "delta_three([1, 4, 9, 16, 25, 36, 49, 64])"
      ],
      "execution_count": null,
      "outputs": [
        {
          "output_type": "execute_result",
          "data": {
            "text/plain": [
              "True"
            ]
          },
          "metadata": {
            "tags": []
          },
          "execution_count": 22
        }
      ]
    },
    {
      "cell_type": "code",
      "metadata": {
        "id": "aUb1aXXLwxj7",
        "colab": {
          "base_uri": "https://localhost:8080/"
        },
        "outputId": "6c96b80e-a5be-45bd-acd2-d2a07c26d8d7"
      },
      "source": [
        "delta_three([0, 4, 18, 48, 100, 180])"
      ],
      "execution_count": null,
      "outputs": [
        {
          "output_type": "execute_result",
          "data": {
            "text/plain": [
              "True"
            ]
          },
          "metadata": {
            "tags": []
          },
          "execution_count": 23
        }
      ]
    }
  ]
}